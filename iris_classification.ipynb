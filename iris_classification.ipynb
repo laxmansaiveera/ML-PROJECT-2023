{
  "nbformat": 4,
  "nbformat_minor": 0,
  "metadata": {
    "colab": {
      "provenance": [],
      "authorship_tag": "ABX9TyPRP+sCty+NVvAudq5gH4cy",
      "include_colab_link": true
    },
    "kernelspec": {
      "name": "python3",
      "display_name": "Python 3"
    },
    "language_info": {
      "name": "python"
    }
  },
  "cells": [
    {
      "cell_type": "markdown",
      "metadata": {
        "id": "view-in-github",
        "colab_type": "text"
      },
      "source": [
        "<a href=\"https://colab.research.google.com/github/laxmansaiveera/ML-PROJECT-2023/blob/main/iris_classification.ipynb\" target=\"_parent\"><img src=\"https://colab.research.google.com/assets/colab-badge.svg\" alt=\"Open In Colab\"/></a>"
      ]
    },
    {
      "cell_type": "code",
      "execution_count": null,
      "metadata": {
        "id": "F6CsFLSEcRVb"
      },
      "outputs": [],
      "source": []
    },
    {
      "cell_type": "code",
      "source": [
        "# Import necessary libraries\n",
        "import pandas as pd\n",
        "from sklearn.model_selection import train_test_split\n",
        "from sklearn.preprocessing import StandardScaler\n",
        "from sklearn.svm import SVC\n",
        "from sklearn.metrics import accuracy_score\n",
        "\n",
        "# Load the Iris dataset\n",
        "data = pd.read_csv(\"//iris.csv\")\n",
        "\n",
        "# Separate features and target variable\n",
        "features = data[[\"sepal_length\", \"sepal_width\", \"petal_length\", \"petal_width\"]]\n",
        "target = data[\"species\"]\n",
        "\n",
        "# Standardize features\n",
        "scaler = StandardScaler()\n",
        "features_scaled = scaler.fit_transform(features)\n",
        "\n",
        "# Split data into training and testing sets\n",
        "X_train, X_test, y_train, y_test = train_test_split(features_scaled, target, test_size=0.3, random_state=0)\n",
        "\n",
        "# Create an SVM classifier object\n",
        "svm = SVC(kernel=\"rbf\", C=1.0)\n",
        "\n",
        "# Train the model\n",
        "svm.fit(X_train, y_train)\n",
        "\n",
        "# Make predictions on the test set\n",
        "y_pred = svm.predict(X_test)\n",
        "# Evaluate the model accuracy\n",
        "accuracy = accuracy_score(y_test, y_pred)\n",
        "print(f\"Accuracy: {accuracy:.4f}\")\n",
        "\n"
      ],
      "metadata": {
        "colab": {
          "base_uri": "https://localhost:8080/"
        },
        "id": "KzCwZTzXpg7z",
        "outputId": "549f06ef-a94e-4554-d1e6-da7b861de1c3"
      },
      "execution_count": 2,
      "outputs": [
        {
          "output_type": "stream",
          "name": "stdout",
          "text": [
            "Accuracy: 0.9778\n"
          ]
        }
      ]
    },
    {
      "cell_type": "code",
      "source": [],
      "metadata": {
        "id": "TYwu7ikTdsST"
      },
      "execution_count": null,
      "outputs": []
    },
    {
      "cell_type": "code",
      "source": [
        "# Add the following code to the existing SVM code:\n",
        "def predict_new_data(sepal_length, sepal_width, petal_length, petal_width):\n",
        "\n",
        "  # Create a new data point\n",
        "  new_data = pd.DataFrame({\n",
        "    \"sepal_length\": [sepal_length],\n",
        "    \"sepal_width\": [sepal_width],\n",
        "    \"petal_length\": [petal_length],\n",
        "    \"petal_width\": [petal_width],\n",
        "  })\n",
        "\n",
        "  # Standardize the new data\n",
        "  new_data_scaled = scaler.transform(new_data)\n",
        "\n",
        "  # Make predictions on the new data\n",
        "  predicted_species = svm.predict(new_data_scaled)[0]\n",
        "\n",
        "  return predicted_species\n",
        "\n",
        "# Example usage\n",
        "predicted_species = predict_new_data(5.2, 3.5, 1.4, 0.2)\n",
        "print(f\"Predicted species: {predicted_species}\")\n"
      ],
      "metadata": {
        "colab": {
          "base_uri": "https://localhost:8080/"
        },
        "id": "T5YcGD3xso3t",
        "outputId": "71598592-45f6-46f7-afc8-b3e6049a37b0"
      },
      "execution_count": 3,
      "outputs": [
        {
          "output_type": "stream",
          "name": "stdout",
          "text": [
            "Predicted species: setosa\n"
          ]
        }
      ]
    }
  ]
}